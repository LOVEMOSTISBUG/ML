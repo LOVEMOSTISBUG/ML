{
 "cells": [
  {
   "cell_type": "code",
   "execution_count": 11,
   "id": "d7c18795-6aab-4d4f-a6c9-2ae24801a8bb",
   "metadata": {},
   "outputs": [
    {
     "ename": "ImportError",
     "evalue": "cannot import name 'get_sudent_data' from 'my_functions' (C:\\Users\\22120\\Desktop\\BUG\\Python\\ML\\my_functions.py)",
     "output_type": "error",
     "traceback": [
      "\u001b[1;31m---------------------------------------------------------------------------\u001b[0m",
      "\u001b[1;31mImportError\u001b[0m                               Traceback (most recent call last)",
      "Cell \u001b[1;32mIn[11], line 4\u001b[0m\n\u001b[0;32m      2\u001b[0m \u001b[38;5;28;01mfrom\u001b[39;00m \u001b[38;5;21;01mtensorflow\u001b[39;00m \u001b[38;5;28;01mimport\u001b[39;00m keras\n\u001b[0;32m      3\u001b[0m \u001b[38;5;28;01mfrom\u001b[39;00m \u001b[38;5;21;01mmy_functions\u001b[39;00m \u001b[38;5;28;01mimport\u001b[39;00m print_2d_data\n\u001b[1;32m----> 4\u001b[0m \u001b[38;5;28;01mfrom\u001b[39;00m \u001b[38;5;21;01mmy_functions\u001b[39;00m \u001b[38;5;28;01mimport\u001b[39;00m get_sudent_data\n",
      "\u001b[1;31mImportError\u001b[0m: cannot import name 'get_sudent_data' from 'my_functions' (C:\\Users\\22120\\Desktop\\BUG\\Python\\ML\\my_functions.py)"
     ]
    }
   ],
   "source": [
    "import numpy as np\n",
    "from tensorflow import keras\n",
    "from my_functions import print_2d_data\n",
    "from my_functions import get_sudent_data"
   ]
  },
  {
   "cell_type": "code",
   "execution_count": null,
   "id": "cfe07d09-e837-4d0b-be6d-74f8ad95c0b8",
   "metadata": {},
   "outputs": [],
   "source": []
  }
 ],
 "metadata": {
  "kernelspec": {
   "display_name": "Python 3 (ipykernel)",
   "language": "python",
   "name": "python3"
  },
  "language_info": {
   "codemirror_mode": {
    "name": "ipython",
    "version": 3
   },
   "file_extension": ".py",
   "mimetype": "text/x-python",
   "name": "python",
   "nbconvert_exporter": "python",
   "pygments_lexer": "ipython3",
   "version": "3.8.10"
  }
 },
 "nbformat": 4,
 "nbformat_minor": 5
}
