{
 "cells": [
  {
   "cell_type": "code",
   "execution_count": 16,
   "metadata": {},
   "outputs": [],
   "source": [
    "import cv2\n",
    "import os\n",
    "import numpy as np\n",
    "import tensorflow as tf\n",
    "from tensorflow import keras \n",
    "import pandas as pd\n"
   ]
  },
  {
   "cell_type": "code",
   "execution_count": 17,
   "metadata": {},
   "outputs": [],
   "source": [
    "def read_directory(directory_name):\n",
    "    X,Y= [],[]\n",
    "    for filename in os.listdir(directory_name):\n",
    "        image = cv2.imread(directory_name+\"/\"+filename)\n",
    "        X.append(image)\n",
    "        Y.append(int(filename[0]))\n",
    "    X = np.array(X).astype(np.float64)/255\n",
    "    Y = np.array(Y)\n",
    "    return X,Y"
   ]
  },
  {
   "cell_type": "code",
   "execution_count": 18,
   "metadata": {},
   "outputs": [
    {
     "name": "stdout",
     "output_type": "stream",
     "text": [
      "(42000, 28, 28, 3) (42000,)\n"
     ]
    }
   ],
   "source": [
    "X,Y = read_directory(\"data_set/mnist\")\n",
    "print(X.shape,Y.shape)"
   ]
  },
  {
   "cell_type": "code",
   "execution_count": 19,
   "metadata": {},
   "outputs": [
    {
     "name": "stdout",
     "output_type": "stream",
     "text": [
      "Epoch 1/10\n",
      "1313/1313 [==============================] - 4s 3ms/step - loss: 0.5089 - accuracy: 0.8270\n",
      "Epoch 2/10\n",
      "1313/1313 [==============================] - 4s 3ms/step - loss: 0.1224 - accuracy: 0.9634\n",
      "Epoch 3/10\n",
      "1313/1313 [==============================] - 4s 3ms/step - loss: 0.0820 - accuracy: 0.9746\n",
      "Epoch 4/10\n",
      "1313/1313 [==============================] - 4s 3ms/step - loss: 0.0611 - accuracy: 0.9808\n",
      "Epoch 5/10\n",
      "1313/1313 [==============================] - 4s 3ms/step - loss: 0.0471 - accuracy: 0.9852\n",
      "Epoch 6/10\n",
      "1313/1313 [==============================] - 4s 3ms/step - loss: 0.0353 - accuracy: 0.9886\n",
      "Epoch 7/10\n",
      "1313/1313 [==============================] - 4s 3ms/step - loss: 0.0318 - accuracy: 0.9896\n",
      "Epoch 8/10\n",
      "1313/1313 [==============================] - 4s 3ms/step - loss: 0.0254 - accuracy: 0.9918\n",
      "Epoch 9/10\n",
      "1313/1313 [==============================] - 4s 3ms/step - loss: 0.0231 - accuracy: 0.9925\n",
      "Epoch 10/10\n",
      "1313/1313 [==============================] - 4s 3ms/step - loss: 0.0177 - accuracy: 0.9945\n",
      "Model: \"sequential_4\"\n",
      "_________________________________________________________________\n",
      " Layer (type)                Output Shape              Param #   \n",
      "=================================================================\n",
      " IN_PUT (Flatten)            (None, 2352)              0         \n",
      "                                                                 \n",
      " DENSE_1 (Dense)             (None, 128)               301184    \n",
      "                                                                 \n",
      " DENSE_2 (Dense)             (None, 10)                1290      \n",
      "                                                                 \n",
      " OUT_PUT (Softmax)           (None, 10)                0         \n",
      "                                                                 \n",
      "=================================================================\n",
      "Total params: 302474 (1.15 MB)\n",
      "Trainable params: 302474 (1.15 MB)\n",
      "Non-trainable params: 0 (0.00 Byte)\n",
      "_________________________________________________________________\n"
     ]
    }
   ],
   "source": [
    "model = keras.Sequential(\n",
    "    [\n",
    "        keras.layers.Flatten(name = 'IN_PUT',input_shape=(28,28,3,)),\n",
    "        keras.layers.Dense(units=128,activation='relu',name = 'DENSE_1'),\n",
    "        keras.layers.Dense(units=10,activation='relu',name = 'DENSE_2'),\n",
    "        tf.keras.layers.Softmax(name = 'OUT_PUT')\n",
    "     \n",
    "    ]\n",
    ")\n",
    "model.compile(\n",
    "            optimizer='adam',\n",
    "            loss= keras.losses.SparseCategoricalCrossentropy(from_logits=True),\n",
    "            metrics=['accuracy']\n",
    "            )\n",
    "model.fit(X,Y,epochs=10) \n",
    "model.summary() "
   ]
  },
  {
   "cell_type": "code",
   "execution_count": 21,
   "metadata": {},
   "outputs": [
    {
     "name": "stdout",
     "output_type": "stream",
     "text": [
      "1/1 [==============================] - 0s 8ms/step\n",
      "[[0.00092356 0.00092356 0.00092356 0.00092356 0.00092356 0.02763067\n",
      "  0.88654053 0.00092356 0.03186586 0.04842159]]\n",
      "6\n"
     ]
    }
   ],
   "source": [
    "test_list = []\n",
    "test_jpg = cv2.imread(\"mnist_test.jpg\")\n",
    "test_list.append(test_jpg)\n",
    "test_list = np.array(test_list).astype(np.float64)/255\n",
    "predictions = model.predict(test_list)\n",
    "print(predictions)\n",
    "print(np.argmax(predictions[0]))\n"
   ]
  },
  {
   "cell_type": "code",
   "execution_count": null,
   "metadata": {},
   "outputs": [],
   "source": []
  },
  {
   "cell_type": "code",
   "execution_count": null,
   "metadata": {},
   "outputs": [],
   "source": []
  }
 ],
 "metadata": {
  "kernelspec": {
   "display_name": "Python 3",
   "language": "python",
   "name": "python3"
  },
  "language_info": {
   "codemirror_mode": {
    "name": "ipython",
    "version": 3
   },
   "file_extension": ".py",
   "mimetype": "text/x-python",
   "name": "python",
   "nbconvert_exporter": "python",
   "pygments_lexer": "ipython3",
   "version": "3.8.10"
  }
 },
 "nbformat": 4,
 "nbformat_minor": 2
}
